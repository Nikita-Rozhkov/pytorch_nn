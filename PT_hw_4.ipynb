{
  "nbformat": 4,
  "nbformat_minor": 0,
  "metadata": {
    "colab": {
      "name": "PT_hw_4.ipynb",
      "provenance": [],
      "collapsed_sections": []
    },
    "kernelspec": {
      "name": "python3",
      "display_name": "Python 3"
    },
    "language_info": {
      "name": "python"
    },
    "accelerator": "GPU",
    "widgets": {
      "application/vnd.jupyter.widget-state+json": {
        "ef03cbcafa8947949f16f4197f2f8d43": {
          "model_module": "@jupyter-widgets/controls",
          "model_name": "HBoxModel",
          "model_module_version": "1.5.0",
          "state": {
            "_dom_classes": [],
            "_model_module": "@jupyter-widgets/controls",
            "_model_module_version": "1.5.0",
            "_model_name": "HBoxModel",
            "_view_count": null,
            "_view_module": "@jupyter-widgets/controls",
            "_view_module_version": "1.5.0",
            "_view_name": "HBoxView",
            "box_style": "",
            "children": [
              "IPY_MODEL_e4a709f170e647d6a0f73ccd2b131ba2",
              "IPY_MODEL_db3bf003c6c645458fb716de5c3a8bf2",
              "IPY_MODEL_649e583f78d04db49183a5a67feab9d9"
            ],
            "layout": "IPY_MODEL_e531c4ebedff484da385e14b116dfc17"
          }
        },
        "e4a709f170e647d6a0f73ccd2b131ba2": {
          "model_module": "@jupyter-widgets/controls",
          "model_name": "HTMLModel",
          "model_module_version": "1.5.0",
          "state": {
            "_dom_classes": [],
            "_model_module": "@jupyter-widgets/controls",
            "_model_module_version": "1.5.0",
            "_model_name": "HTMLModel",
            "_view_count": null,
            "_view_module": "@jupyter-widgets/controls",
            "_view_module_version": "1.5.0",
            "_view_name": "HTMLView",
            "description": "",
            "description_tooltip": null,
            "layout": "IPY_MODEL_022e2d30ded044439878f491a343d0f3",
            "placeholder": "​",
            "style": "IPY_MODEL_2b7e496eeb6a4c908bd7c0f3af119e24",
            "value": ""
          }
        },
        "db3bf003c6c645458fb716de5c3a8bf2": {
          "model_module": "@jupyter-widgets/controls",
          "model_name": "FloatProgressModel",
          "model_module_version": "1.5.0",
          "state": {
            "_dom_classes": [],
            "_model_module": "@jupyter-widgets/controls",
            "_model_module_version": "1.5.0",
            "_model_name": "FloatProgressModel",
            "_view_count": null,
            "_view_module": "@jupyter-widgets/controls",
            "_view_module_version": "1.5.0",
            "_view_name": "ProgressView",
            "bar_style": "success",
            "description": "",
            "description_tooltip": null,
            "layout": "IPY_MODEL_ace5306434ba4cc39b2884668da355a1",
            "max": 169001437,
            "min": 0,
            "orientation": "horizontal",
            "style": "IPY_MODEL_36a7c5cc73024862ae52fc36698ae568",
            "value": 169001437
          }
        },
        "649e583f78d04db49183a5a67feab9d9": {
          "model_module": "@jupyter-widgets/controls",
          "model_name": "HTMLModel",
          "model_module_version": "1.5.0",
          "state": {
            "_dom_classes": [],
            "_model_module": "@jupyter-widgets/controls",
            "_model_module_version": "1.5.0",
            "_model_name": "HTMLModel",
            "_view_count": null,
            "_view_module": "@jupyter-widgets/controls",
            "_view_module_version": "1.5.0",
            "_view_name": "HTMLView",
            "description": "",
            "description_tooltip": null,
            "layout": "IPY_MODEL_ef1fd5d6875f4bb68dc4a49c43714bff",
            "placeholder": "​",
            "style": "IPY_MODEL_74dcd581d28343dd841375178646ddae",
            "value": " 169001984/? [00:06&lt;00:00, 68862733.00it/s]"
          }
        },
        "e531c4ebedff484da385e14b116dfc17": {
          "model_module": "@jupyter-widgets/base",
          "model_name": "LayoutModel",
          "model_module_version": "1.2.0",
          "state": {
            "_model_module": "@jupyter-widgets/base",
            "_model_module_version": "1.2.0",
            "_model_name": "LayoutModel",
            "_view_count": null,
            "_view_module": "@jupyter-widgets/base",
            "_view_module_version": "1.2.0",
            "_view_name": "LayoutView",
            "align_content": null,
            "align_items": null,
            "align_self": null,
            "border": null,
            "bottom": null,
            "display": null,
            "flex": null,
            "flex_flow": null,
            "grid_area": null,
            "grid_auto_columns": null,
            "grid_auto_flow": null,
            "grid_auto_rows": null,
            "grid_column": null,
            "grid_gap": null,
            "grid_row": null,
            "grid_template_areas": null,
            "grid_template_columns": null,
            "grid_template_rows": null,
            "height": null,
            "justify_content": null,
            "justify_items": null,
            "left": null,
            "margin": null,
            "max_height": null,
            "max_width": null,
            "min_height": null,
            "min_width": null,
            "object_fit": null,
            "object_position": null,
            "order": null,
            "overflow": null,
            "overflow_x": null,
            "overflow_y": null,
            "padding": null,
            "right": null,
            "top": null,
            "visibility": null,
            "width": null
          }
        },
        "022e2d30ded044439878f491a343d0f3": {
          "model_module": "@jupyter-widgets/base",
          "model_name": "LayoutModel",
          "model_module_version": "1.2.0",
          "state": {
            "_model_module": "@jupyter-widgets/base",
            "_model_module_version": "1.2.0",
            "_model_name": "LayoutModel",
            "_view_count": null,
            "_view_module": "@jupyter-widgets/base",
            "_view_module_version": "1.2.0",
            "_view_name": "LayoutView",
            "align_content": null,
            "align_items": null,
            "align_self": null,
            "border": null,
            "bottom": null,
            "display": null,
            "flex": null,
            "flex_flow": null,
            "grid_area": null,
            "grid_auto_columns": null,
            "grid_auto_flow": null,
            "grid_auto_rows": null,
            "grid_column": null,
            "grid_gap": null,
            "grid_row": null,
            "grid_template_areas": null,
            "grid_template_columns": null,
            "grid_template_rows": null,
            "height": null,
            "justify_content": null,
            "justify_items": null,
            "left": null,
            "margin": null,
            "max_height": null,
            "max_width": null,
            "min_height": null,
            "min_width": null,
            "object_fit": null,
            "object_position": null,
            "order": null,
            "overflow": null,
            "overflow_x": null,
            "overflow_y": null,
            "padding": null,
            "right": null,
            "top": null,
            "visibility": null,
            "width": null
          }
        },
        "2b7e496eeb6a4c908bd7c0f3af119e24": {
          "model_module": "@jupyter-widgets/controls",
          "model_name": "DescriptionStyleModel",
          "model_module_version": "1.5.0",
          "state": {
            "_model_module": "@jupyter-widgets/controls",
            "_model_module_version": "1.5.0",
            "_model_name": "DescriptionStyleModel",
            "_view_count": null,
            "_view_module": "@jupyter-widgets/base",
            "_view_module_version": "1.2.0",
            "_view_name": "StyleView",
            "description_width": ""
          }
        },
        "ace5306434ba4cc39b2884668da355a1": {
          "model_module": "@jupyter-widgets/base",
          "model_name": "LayoutModel",
          "model_module_version": "1.2.0",
          "state": {
            "_model_module": "@jupyter-widgets/base",
            "_model_module_version": "1.2.0",
            "_model_name": "LayoutModel",
            "_view_count": null,
            "_view_module": "@jupyter-widgets/base",
            "_view_module_version": "1.2.0",
            "_view_name": "LayoutView",
            "align_content": null,
            "align_items": null,
            "align_self": null,
            "border": null,
            "bottom": null,
            "display": null,
            "flex": null,
            "flex_flow": null,
            "grid_area": null,
            "grid_auto_columns": null,
            "grid_auto_flow": null,
            "grid_auto_rows": null,
            "grid_column": null,
            "grid_gap": null,
            "grid_row": null,
            "grid_template_areas": null,
            "grid_template_columns": null,
            "grid_template_rows": null,
            "height": null,
            "justify_content": null,
            "justify_items": null,
            "left": null,
            "margin": null,
            "max_height": null,
            "max_width": null,
            "min_height": null,
            "min_width": null,
            "object_fit": null,
            "object_position": null,
            "order": null,
            "overflow": null,
            "overflow_x": null,
            "overflow_y": null,
            "padding": null,
            "right": null,
            "top": null,
            "visibility": null,
            "width": null
          }
        },
        "36a7c5cc73024862ae52fc36698ae568": {
          "model_module": "@jupyter-widgets/controls",
          "model_name": "ProgressStyleModel",
          "model_module_version": "1.5.0",
          "state": {
            "_model_module": "@jupyter-widgets/controls",
            "_model_module_version": "1.5.0",
            "_model_name": "ProgressStyleModel",
            "_view_count": null,
            "_view_module": "@jupyter-widgets/base",
            "_view_module_version": "1.2.0",
            "_view_name": "StyleView",
            "bar_color": null,
            "description_width": ""
          }
        },
        "ef1fd5d6875f4bb68dc4a49c43714bff": {
          "model_module": "@jupyter-widgets/base",
          "model_name": "LayoutModel",
          "model_module_version": "1.2.0",
          "state": {
            "_model_module": "@jupyter-widgets/base",
            "_model_module_version": "1.2.0",
            "_model_name": "LayoutModel",
            "_view_count": null,
            "_view_module": "@jupyter-widgets/base",
            "_view_module_version": "1.2.0",
            "_view_name": "LayoutView",
            "align_content": null,
            "align_items": null,
            "align_self": null,
            "border": null,
            "bottom": null,
            "display": null,
            "flex": null,
            "flex_flow": null,
            "grid_area": null,
            "grid_auto_columns": null,
            "grid_auto_flow": null,
            "grid_auto_rows": null,
            "grid_column": null,
            "grid_gap": null,
            "grid_row": null,
            "grid_template_areas": null,
            "grid_template_columns": null,
            "grid_template_rows": null,
            "height": null,
            "justify_content": null,
            "justify_items": null,
            "left": null,
            "margin": null,
            "max_height": null,
            "max_width": null,
            "min_height": null,
            "min_width": null,
            "object_fit": null,
            "object_position": null,
            "order": null,
            "overflow": null,
            "overflow_x": null,
            "overflow_y": null,
            "padding": null,
            "right": null,
            "top": null,
            "visibility": null,
            "width": null
          }
        },
        "74dcd581d28343dd841375178646ddae": {
          "model_module": "@jupyter-widgets/controls",
          "model_name": "DescriptionStyleModel",
          "model_module_version": "1.5.0",
          "state": {
            "_model_module": "@jupyter-widgets/controls",
            "_model_module_version": "1.5.0",
            "_model_name": "DescriptionStyleModel",
            "_view_count": null,
            "_view_module": "@jupyter-widgets/base",
            "_view_module_version": "1.2.0",
            "_view_name": "StyleView",
            "description_width": ""
          }
        },
        "6835692a33b24fe693e4eeea81d4972b": {
          "model_module": "@jupyter-widgets/controls",
          "model_name": "HBoxModel",
          "model_module_version": "1.5.0",
          "state": {
            "_dom_classes": [],
            "_model_module": "@jupyter-widgets/controls",
            "_model_module_version": "1.5.0",
            "_model_name": "HBoxModel",
            "_view_count": null,
            "_view_module": "@jupyter-widgets/controls",
            "_view_module_version": "1.5.0",
            "_view_name": "HBoxView",
            "box_style": "",
            "children": [
              "IPY_MODEL_f32c4b8f8fc244f4b4420953dfd61486",
              "IPY_MODEL_7740a969df2049e7874ee7660deacb5d",
              "IPY_MODEL_95b6bf7db82c43b9b3e2986813b483b6"
            ],
            "layout": "IPY_MODEL_61702ed2a9b045f1b0ac95fe2c8dce53"
          }
        },
        "f32c4b8f8fc244f4b4420953dfd61486": {
          "model_module": "@jupyter-widgets/controls",
          "model_name": "HTMLModel",
          "model_module_version": "1.5.0",
          "state": {
            "_dom_classes": [],
            "_model_module": "@jupyter-widgets/controls",
            "_model_module_version": "1.5.0",
            "_model_name": "HTMLModel",
            "_view_count": null,
            "_view_module": "@jupyter-widgets/controls",
            "_view_module_version": "1.5.0",
            "_view_name": "HTMLView",
            "description": "",
            "description_tooltip": null,
            "layout": "IPY_MODEL_ada993e9ddf84d4fbf2ff436b0e3ecf6",
            "placeholder": "​",
            "style": "IPY_MODEL_33d7d6a34aeb443a9608029e52fc76ff",
            "value": "100%"
          }
        },
        "7740a969df2049e7874ee7660deacb5d": {
          "model_module": "@jupyter-widgets/controls",
          "model_name": "FloatProgressModel",
          "model_module_version": "1.5.0",
          "state": {
            "_dom_classes": [],
            "_model_module": "@jupyter-widgets/controls",
            "_model_module_version": "1.5.0",
            "_model_name": "FloatProgressModel",
            "_view_count": null,
            "_view_module": "@jupyter-widgets/controls",
            "_view_module_version": "1.5.0",
            "_view_name": "ProgressView",
            "bar_style": "success",
            "description": "",
            "description_tooltip": null,
            "layout": "IPY_MODEL_1eabacfff0ec45b39a8a177141662457",
            "max": 102530333,
            "min": 0,
            "orientation": "horizontal",
            "style": "IPY_MODEL_91beabc42b50489da1bad9fcb8b18d32",
            "value": 102530333
          }
        },
        "95b6bf7db82c43b9b3e2986813b483b6": {
          "model_module": "@jupyter-widgets/controls",
          "model_name": "HTMLModel",
          "model_module_version": "1.5.0",
          "state": {
            "_dom_classes": [],
            "_model_module": "@jupyter-widgets/controls",
            "_model_module_version": "1.5.0",
            "_model_name": "HTMLModel",
            "_view_count": null,
            "_view_module": "@jupyter-widgets/controls",
            "_view_module_version": "1.5.0",
            "_view_name": "HTMLView",
            "description": "",
            "description_tooltip": null,
            "layout": "IPY_MODEL_ee465640b50c4292bac6991b28055b7c",
            "placeholder": "​",
            "style": "IPY_MODEL_eb1a67135164452da04efec9aa696378",
            "value": " 97.8M/97.8M [00:00&lt;00:00, 222MB/s]"
          }
        },
        "61702ed2a9b045f1b0ac95fe2c8dce53": {
          "model_module": "@jupyter-widgets/base",
          "model_name": "LayoutModel",
          "model_module_version": "1.2.0",
          "state": {
            "_model_module": "@jupyter-widgets/base",
            "_model_module_version": "1.2.0",
            "_model_name": "LayoutModel",
            "_view_count": null,
            "_view_module": "@jupyter-widgets/base",
            "_view_module_version": "1.2.0",
            "_view_name": "LayoutView",
            "align_content": null,
            "align_items": null,
            "align_self": null,
            "border": null,
            "bottom": null,
            "display": null,
            "flex": null,
            "flex_flow": null,
            "grid_area": null,
            "grid_auto_columns": null,
            "grid_auto_flow": null,
            "grid_auto_rows": null,
            "grid_column": null,
            "grid_gap": null,
            "grid_row": null,
            "grid_template_areas": null,
            "grid_template_columns": null,
            "grid_template_rows": null,
            "height": null,
            "justify_content": null,
            "justify_items": null,
            "left": null,
            "margin": null,
            "max_height": null,
            "max_width": null,
            "min_height": null,
            "min_width": null,
            "object_fit": null,
            "object_position": null,
            "order": null,
            "overflow": null,
            "overflow_x": null,
            "overflow_y": null,
            "padding": null,
            "right": null,
            "top": null,
            "visibility": null,
            "width": null
          }
        },
        "ada993e9ddf84d4fbf2ff436b0e3ecf6": {
          "model_module": "@jupyter-widgets/base",
          "model_name": "LayoutModel",
          "model_module_version": "1.2.0",
          "state": {
            "_model_module": "@jupyter-widgets/base",
            "_model_module_version": "1.2.0",
            "_model_name": "LayoutModel",
            "_view_count": null,
            "_view_module": "@jupyter-widgets/base",
            "_view_module_version": "1.2.0",
            "_view_name": "LayoutView",
            "align_content": null,
            "align_items": null,
            "align_self": null,
            "border": null,
            "bottom": null,
            "display": null,
            "flex": null,
            "flex_flow": null,
            "grid_area": null,
            "grid_auto_columns": null,
            "grid_auto_flow": null,
            "grid_auto_rows": null,
            "grid_column": null,
            "grid_gap": null,
            "grid_row": null,
            "grid_template_areas": null,
            "grid_template_columns": null,
            "grid_template_rows": null,
            "height": null,
            "justify_content": null,
            "justify_items": null,
            "left": null,
            "margin": null,
            "max_height": null,
            "max_width": null,
            "min_height": null,
            "min_width": null,
            "object_fit": null,
            "object_position": null,
            "order": null,
            "overflow": null,
            "overflow_x": null,
            "overflow_y": null,
            "padding": null,
            "right": null,
            "top": null,
            "visibility": null,
            "width": null
          }
        },
        "33d7d6a34aeb443a9608029e52fc76ff": {
          "model_module": "@jupyter-widgets/controls",
          "model_name": "DescriptionStyleModel",
          "model_module_version": "1.5.0",
          "state": {
            "_model_module": "@jupyter-widgets/controls",
            "_model_module_version": "1.5.0",
            "_model_name": "DescriptionStyleModel",
            "_view_count": null,
            "_view_module": "@jupyter-widgets/base",
            "_view_module_version": "1.2.0",
            "_view_name": "StyleView",
            "description_width": ""
          }
        },
        "1eabacfff0ec45b39a8a177141662457": {
          "model_module": "@jupyter-widgets/base",
          "model_name": "LayoutModel",
          "model_module_version": "1.2.0",
          "state": {
            "_model_module": "@jupyter-widgets/base",
            "_model_module_version": "1.2.0",
            "_model_name": "LayoutModel",
            "_view_count": null,
            "_view_module": "@jupyter-widgets/base",
            "_view_module_version": "1.2.0",
            "_view_name": "LayoutView",
            "align_content": null,
            "align_items": null,
            "align_self": null,
            "border": null,
            "bottom": null,
            "display": null,
            "flex": null,
            "flex_flow": null,
            "grid_area": null,
            "grid_auto_columns": null,
            "grid_auto_flow": null,
            "grid_auto_rows": null,
            "grid_column": null,
            "grid_gap": null,
            "grid_row": null,
            "grid_template_areas": null,
            "grid_template_columns": null,
            "grid_template_rows": null,
            "height": null,
            "justify_content": null,
            "justify_items": null,
            "left": null,
            "margin": null,
            "max_height": null,
            "max_width": null,
            "min_height": null,
            "min_width": null,
            "object_fit": null,
            "object_position": null,
            "order": null,
            "overflow": null,
            "overflow_x": null,
            "overflow_y": null,
            "padding": null,
            "right": null,
            "top": null,
            "visibility": null,
            "width": null
          }
        },
        "91beabc42b50489da1bad9fcb8b18d32": {
          "model_module": "@jupyter-widgets/controls",
          "model_name": "ProgressStyleModel",
          "model_module_version": "1.5.0",
          "state": {
            "_model_module": "@jupyter-widgets/controls",
            "_model_module_version": "1.5.0",
            "_model_name": "ProgressStyleModel",
            "_view_count": null,
            "_view_module": "@jupyter-widgets/base",
            "_view_module_version": "1.2.0",
            "_view_name": "StyleView",
            "bar_color": null,
            "description_width": ""
          }
        },
        "ee465640b50c4292bac6991b28055b7c": {
          "model_module": "@jupyter-widgets/base",
          "model_name": "LayoutModel",
          "model_module_version": "1.2.0",
          "state": {
            "_model_module": "@jupyter-widgets/base",
            "_model_module_version": "1.2.0",
            "_model_name": "LayoutModel",
            "_view_count": null,
            "_view_module": "@jupyter-widgets/base",
            "_view_module_version": "1.2.0",
            "_view_name": "LayoutView",
            "align_content": null,
            "align_items": null,
            "align_self": null,
            "border": null,
            "bottom": null,
            "display": null,
            "flex": null,
            "flex_flow": null,
            "grid_area": null,
            "grid_auto_columns": null,
            "grid_auto_flow": null,
            "grid_auto_rows": null,
            "grid_column": null,
            "grid_gap": null,
            "grid_row": null,
            "grid_template_areas": null,
            "grid_template_columns": null,
            "grid_template_rows": null,
            "height": null,
            "justify_content": null,
            "justify_items": null,
            "left": null,
            "margin": null,
            "max_height": null,
            "max_width": null,
            "min_height": null,
            "min_width": null,
            "object_fit": null,
            "object_position": null,
            "order": null,
            "overflow": null,
            "overflow_x": null,
            "overflow_y": null,
            "padding": null,
            "right": null,
            "top": null,
            "visibility": null,
            "width": null
          }
        },
        "eb1a67135164452da04efec9aa696378": {
          "model_module": "@jupyter-widgets/controls",
          "model_name": "DescriptionStyleModel",
          "model_module_version": "1.5.0",
          "state": {
            "_model_module": "@jupyter-widgets/controls",
            "_model_module_version": "1.5.0",
            "_model_name": "DescriptionStyleModel",
            "_view_count": null,
            "_view_module": "@jupyter-widgets/base",
            "_view_module_version": "1.2.0",
            "_view_name": "StyleView",
            "description_width": ""
          }
        }
      }
    }
  },
  "cells": [
    {
      "cell_type": "markdown",
      "source": [
        "# Урок 3. CNN Свертки"
      ],
      "metadata": {
        "id": "TAGQi_XHW8bq"
      }
    },
    {
      "cell_type": "markdown",
      "source": [
        "## Домашнее задание"
      ],
      "metadata": {
        "id": "-Gs-iPhHXKau"
      }
    },
    {
      "cell_type": "markdown",
      "source": [
        "1. Обучите CNN (самописная) на CIFAR-100.\n",
        "\n",
        "2. Обучите CNN на CIFAR-100 через дообучение ImageNet Resnet-50.\n",
        "\n",
        "3. *Обучите CNN на CIFAR-100 через дообучение ImageNet Resnet-50 с аугментацией данных."
      ],
      "metadata": {
        "id": "Mf1XDdDFXQDn"
      }
    },
    {
      "cell_type": "markdown",
      "source": [
        "### Подключение библиотек"
      ],
      "metadata": {
        "id": "k-MGzoHSXcJp"
      }
    },
    {
      "cell_type": "code",
      "source": [
        "import numpy as np\n",
        "import matplotlib.pyplot as plt\n",
        "\n",
        "import torch\n",
        "from torch.utils.data import Dataset, DataLoader\n",
        "from torchvision import transforms, datasets\n",
        "from torch import nn\n",
        "from torch.nn import functional as F\n",
        "from torch.optim import Adam\n",
        "from torchvision import models\n",
        "\n",
        "\n",
        "from sklearn.model_selection import train_test_split"
      ],
      "metadata": {
        "id": "B5kIxopqXGYu"
      },
      "execution_count": 18,
      "outputs": []
    },
    {
      "cell_type": "markdown",
      "source": [
        "### Подготовка данных. Загрузка датасета CIFAR-100"
      ],
      "metadata": {
        "id": "tCIwsb86YYYj"
      }
    },
    {
      "cell_type": "code",
      "source": [
        "dataset = datasets.CIFAR100(root='./data/', train=True, download=True)"
      ],
      "metadata": {
        "colab": {
          "base_uri": "https://localhost:8080/",
          "height": 104,
          "referenced_widgets": [
            "ef03cbcafa8947949f16f4197f2f8d43",
            "e4a709f170e647d6a0f73ccd2b131ba2",
            "db3bf003c6c645458fb716de5c3a8bf2",
            "649e583f78d04db49183a5a67feab9d9",
            "e531c4ebedff484da385e14b116dfc17",
            "022e2d30ded044439878f491a343d0f3",
            "2b7e496eeb6a4c908bd7c0f3af119e24",
            "ace5306434ba4cc39b2884668da355a1",
            "36a7c5cc73024862ae52fc36698ae568",
            "ef1fd5d6875f4bb68dc4a49c43714bff",
            "74dcd581d28343dd841375178646ddae"
          ]
        },
        "id": "qTZtG8moYS7a",
        "outputId": "49983d1c-54ac-4a88-b905-1811379433e5"
      },
      "execution_count": 3,
      "outputs": [
        {
          "output_type": "stream",
          "name": "stdout",
          "text": [
            "Downloading https://www.cs.toronto.edu/~kriz/cifar-100-python.tar.gz to ./data/cifar-100-python.tar.gz\n",
            "Failed download. Trying https -> http instead. Downloading http://www.cs.toronto.edu/~kriz/cifar-100-python.tar.gz to ./data/cifar-100-python.tar.gz\n"
          ]
        },
        {
          "output_type": "display_data",
          "data": {
            "text/plain": [
              "  0%|          | 0/169001437 [00:00<?, ?it/s]"
            ],
            "application/vnd.jupyter.widget-view+json": {
              "version_major": 2,
              "version_minor": 0,
              "model_id": "ef03cbcafa8947949f16f4197f2f8d43"
            }
          },
          "metadata": {}
        },
        {
          "output_type": "stream",
          "name": "stdout",
          "text": [
            "Extracting ./data/cifar-100-python.tar.gz to ./data/\n"
          ]
        }
      ]
    },
    {
      "cell_type": "code",
      "source": [
        "class MyOwnCifar(Dataset):\n",
        "   \n",
        "    def __init__(self, init_dataset, transform=None):\n",
        "        self._base_dataset = init_dataset\n",
        "        self.transform = transform\n",
        "\n",
        "    def __len__(self):\n",
        "        return len(self._base_dataset)\n",
        "\n",
        "    def __getitem__(self, idx):\n",
        "        img = self._base_dataset[idx][0]\n",
        "        if self.transform is not None:\n",
        "            img = self.transform(img)\n",
        "        label = self._base_dataset[idx][1]\n",
        "        return img, label"
      ],
      "metadata": {
        "id": "YW1lfaniZNVB"
      },
      "execution_count": 4,
      "outputs": []
    },
    {
      "cell_type": "code",
      "source": [
        "def train_valid_split(dataset):\n",
        "    X_train, X_test = train_test_split(dataset, test_size=0.05, random_state=13)\n",
        "    return X_train, X_test"
      ],
      "metadata": {
        "id": "HXyf2KphZhvv"
      },
      "execution_count": 5,
      "outputs": []
    },
    {
      "cell_type": "code",
      "source": [
        "train_dataset, test_dataset = train_valid_split(dataset)"
      ],
      "metadata": {
        "id": "8UoV1NWNaD_n"
      },
      "execution_count": 6,
      "outputs": []
    },
    {
      "cell_type": "code",
      "source": [
        "train_dataset = MyOwnCifar(train_dataset, transforms.ToTensor())"
      ],
      "metadata": {
        "id": "AqvBfYuqZ2ly"
      },
      "execution_count": 7,
      "outputs": []
    },
    {
      "cell_type": "code",
      "source": [
        "test_dataset = MyOwnCifar(test_dataset, transforms.ToTensor())"
      ],
      "metadata": {
        "id": "20udIMg1ab97"
      },
      "execution_count": 8,
      "outputs": []
    },
    {
      "cell_type": "code",
      "source": [
        "train_loader = DataLoader(train_dataset,\n",
        "                          batch_size=100,\n",
        "                          shuffle=True, \n",
        "                          num_workers=0)\n",
        "\n",
        "test_loader = DataLoader(test_dataset,\n",
        "                          batch_size=100,\n",
        "                          shuffle=False,\n",
        "                          num_workers=0)"
      ],
      "metadata": {
        "id": "wBZZsj_lsVH4"
      },
      "execution_count": 9,
      "outputs": []
    },
    {
      "cell_type": "code",
      "source": [
        "classes = dataset.classes\n",
        "len(classes)"
      ],
      "metadata": {
        "colab": {
          "base_uri": "https://localhost:8080/"
        },
        "id": "zzjtaniEsoq_",
        "outputId": "996742eb-a28d-4467-e8db-23c50bd31da2"
      },
      "execution_count": 10,
      "outputs": [
        {
          "output_type": "execute_result",
          "data": {
            "text/plain": [
              "100"
            ]
          },
          "metadata": {},
          "execution_count": 10
        }
      ]
    },
    {
      "cell_type": "code",
      "source": [
        "for image, label in train_dataset:\n",
        "    print(f'image size: {image.shape}\\nimage_tensor:\\n{image}\\nclass: {classes[label]}')\n",
        "    break"
      ],
      "metadata": {
        "colab": {
          "base_uri": "https://localhost:8080/"
        },
        "id": "f6Ks_xThstUo",
        "outputId": "301ddab9-ce1c-40a2-ed05-aa1fe8b82c3c"
      },
      "execution_count": 11,
      "outputs": [
        {
          "output_type": "stream",
          "name": "stdout",
          "text": [
            "image size: torch.Size([3, 32, 32])\n",
            "image_tensor:\n",
            "tensor([[[0.6039, 0.6118, 0.6275,  ..., 0.4824, 0.4863, 0.4824],\n",
            "         [0.6353, 0.6431, 0.6510,  ..., 0.5059, 0.5176, 0.5059],\n",
            "         [0.6510, 0.6549, 0.6667,  ..., 0.5216, 0.5333, 0.5216],\n",
            "         ...,\n",
            "         [0.4314, 0.4588, 0.4980,  ..., 0.4588, 0.4902, 0.4510],\n",
            "         [0.4392, 0.4627, 0.4902,  ..., 0.4784, 0.4784, 0.4510],\n",
            "         [0.4392, 0.4588, 0.4745,  ..., 0.4745, 0.4588, 0.4314]],\n",
            "\n",
            "        [[0.6000, 0.6078, 0.6235,  ..., 0.4627, 0.4627, 0.4627],\n",
            "         [0.6314, 0.6392, 0.6471,  ..., 0.4863, 0.4902, 0.4902],\n",
            "         [0.6471, 0.6510, 0.6627,  ..., 0.5020, 0.5059, 0.5020],\n",
            "         ...,\n",
            "         [0.3843, 0.4157, 0.4510,  ..., 0.4118, 0.4431, 0.4039],\n",
            "         [0.3882, 0.4157, 0.4431,  ..., 0.4314, 0.4314, 0.4039],\n",
            "         [0.3922, 0.4118, 0.4275,  ..., 0.4275, 0.4118, 0.3843]],\n",
            "\n",
            "        [[0.6314, 0.6392, 0.6510,  ..., 0.4863, 0.4824, 0.4824],\n",
            "         [0.6627, 0.6706, 0.6784,  ..., 0.5137, 0.5098, 0.5059],\n",
            "         [0.6784, 0.6824, 0.6941,  ..., 0.5255, 0.5255, 0.5255],\n",
            "         ...,\n",
            "         [0.4000, 0.4314, 0.4667,  ..., 0.4196, 0.4510, 0.4118],\n",
            "         [0.4039, 0.4314, 0.4588,  ..., 0.4392, 0.4392, 0.4118],\n",
            "         [0.4078, 0.4275, 0.4431,  ..., 0.4353, 0.4196, 0.3922]]])\n",
            "class: table\n"
          ]
        }
      ]
    },
    {
      "cell_type": "markdown",
      "source": [
        "### Обучение самописной CNN  на CIFAR-100."
      ],
      "metadata": {
        "id": "4YwDkRWds8em"
      }
    },
    {
      "cell_type": "code",
      "source": [
        "class Net(nn.Module):\n",
        "    def __init__(self):\n",
        "        super(Net, self).__init__()\n",
        "        self.bn1 = nn.BatchNorm2d(3) # 3 input channels\n",
        "        self.conv1 = nn.Conv2d(3, 30, 3) # convolute 3 channels to 25 channels by frame of 3*3\n",
        "                \n",
        "        self.bn2 = nn.BatchNorm2d(30) # batchnorm of 25 channels\n",
        "        self.conv2 = nn.Conv2d(30, 60, 3) # convolute 25 channels to 75 channels by frame of 3*3\n",
        "        \n",
        "        self.bn3 = nn.BatchNorm2d(60) # batchnorm of 75 channels\n",
        "        self.conv3 = nn.Conv2d(60, 100, 2) # convolute 75 channels to 150 channels by frame of 2*2\n",
        "        \n",
        "        self.bn4 = nn.BatchNorm2d(100) # batchnorm of 150 channels\n",
        "        self.conv4 = nn.Conv2d(100, 150, 2) # convolute 150 channels to 300 channels by frame of 2*2\n",
        "        \n",
        "        self.bn5 = nn.BatchNorm2d(150) # batchnorm of 300 channels\n",
        "                \n",
        "        self.dp1 = nn.Dropout(0.25) # dropout for 1 linear with 40% non-trainable params\n",
        "        self.dp2 = nn.Dropout(0.2) # dropout for 2 linear with 30% non-trainable params\n",
        "        self.dp3 = nn.Dropout(0.2) # dropout for 3 linear with 20% non-trainable params\n",
        "        \n",
        "        self.fc1 = nn.Linear(400, 250) # 1th linear layer, 1600 inputs -> 800 outputs\n",
        "        self.fc2 = nn.Linear(450, 200) # 2th linear layer, 800 inputs -> 400 outputs\n",
        "        self.fc3 = nn.Linear(400, 200) # 3th linear layer, 400 inputs -> 200 outputs\n",
        "        self.out = nn.Linear(250, 100) # 4th linear layer, 200 inputs -> 100 outputs\n",
        "            \n",
        "    def forward(self, x):\n",
        "        # 1 layer conv\n",
        "        x = self.bn1(x)\n",
        "        x = self.conv1(x)\n",
        "        x = F.relu(x)\n",
        "        x = F.max_pool2d(x, 2)\n",
        "        \n",
        "        # 2 layer conv\n",
        "        x = self.bn2(x)\n",
        "        x = self.conv2(x)\n",
        "        x = F.leaky_relu(x)\n",
        "        x = F.max_pool2d(x, 2)\n",
        "        \n",
        "        # 3 layer conv\n",
        "        x = self.bn3(x)\n",
        "        x = self.conv3(x)\n",
        "        x = F.relu(x, 0.1)\n",
        "        x = F.max_pool2d(x, 2)\n",
        "        \n",
        "        # 4 layer conv\n",
        "        x = self.bn4(x)\n",
        "                        \n",
        "        # flatten\n",
        "        x = x.view(x.size(0), -1) # transform x to vector\n",
        "        \n",
        "        # 5 layer linear\n",
        "        x = self.dp1(x) \n",
        "        x = self.fc1(x)\n",
        "        x = F.relu(x)\n",
        "        \n",
        "               \n",
        "        return self.out(x)\n",
        "       \n",
        "net = Net()\n",
        "net.cuda()\n",
        "print(net)"
      ],
      "metadata": {
        "colab": {
          "base_uri": "https://localhost:8080/"
        },
        "id": "s8RZHARFtKDM",
        "outputId": "3bc40597-29db-4d08-afda-f56a0406d911"
      },
      "execution_count": 14,
      "outputs": [
        {
          "output_type": "stream",
          "name": "stdout",
          "text": [
            "Net(\n",
            "  (bn1): BatchNorm2d(3, eps=1e-05, momentum=0.1, affine=True, track_running_stats=True)\n",
            "  (conv1): Conv2d(3, 30, kernel_size=(3, 3), stride=(1, 1))\n",
            "  (bn2): BatchNorm2d(30, eps=1e-05, momentum=0.1, affine=True, track_running_stats=True)\n",
            "  (conv2): Conv2d(30, 60, kernel_size=(3, 3), stride=(1, 1))\n",
            "  (bn3): BatchNorm2d(60, eps=1e-05, momentum=0.1, affine=True, track_running_stats=True)\n",
            "  (conv3): Conv2d(60, 100, kernel_size=(2, 2), stride=(1, 1))\n",
            "  (bn4): BatchNorm2d(100, eps=1e-05, momentum=0.1, affine=True, track_running_stats=True)\n",
            "  (conv4): Conv2d(100, 150, kernel_size=(2, 2), stride=(1, 1))\n",
            "  (bn5): BatchNorm2d(150, eps=1e-05, momentum=0.1, affine=True, track_running_stats=True)\n",
            "  (dp1): Dropout(p=0.25, inplace=False)\n",
            "  (dp2): Dropout(p=0.2, inplace=False)\n",
            "  (dp3): Dropout(p=0.2, inplace=False)\n",
            "  (fc1): Linear(in_features=400, out_features=250, bias=True)\n",
            "  (fc2): Linear(in_features=450, out_features=200, bias=True)\n",
            "  (fc3): Linear(in_features=400, out_features=200, bias=True)\n",
            "  (out): Linear(in_features=250, out_features=100, bias=True)\n",
            ")\n"
          ]
        }
      ]
    },
    {
      "cell_type": "code",
      "source": [
        "optimizer = Adam(net.parameters(), lr=0.01)\n",
        "criterion = nn.CrossEntropyLoss()"
      ],
      "metadata": {
        "id": "K85qR7qjtqvm"
      },
      "execution_count": 15,
      "outputs": []
    },
    {
      "cell_type": "code",
      "source": [
        "num_epochs = 10\n",
        "net.train()\n",
        "\n",
        "for epoch in range(num_epochs):  \n",
        "    running_loss, running_items, running_right = 0.0, 0.0, 0.0\n",
        "    for i, data in enumerate(train_loader, 0):\n",
        "        inputs, labels = data[0].cuda(), data[1].cuda()\n",
        "\n",
        "        # обнуляем градиент\n",
        "        optimizer.zero_grad()\n",
        "\n",
        "        outputs = net(inputs)\n",
        "        loss = criterion(outputs, labels)\n",
        "        loss.backward()\n",
        "        optimizer.step()\n",
        "\n",
        "        # выводим статистику о процессе обучения\n",
        "        running_loss += loss.item()\n",
        "        running_items += len(labels)\n",
        "        running_right += (labels == torch.max(outputs, 1)[1]).sum()\n",
        "        \n",
        "        # выводим статистику о процессе обучения\n",
        "        if i % 300 == 0:    # печатаем каждые 300 mini-batches\n",
        "            net.eval()\n",
        "            \n",
        "            print(f'Epoch [{epoch + 1}/{num_epochs}]. ' \\\n",
        "                  f'Step [{i + 1}/{len(train_loader)}]. ' \\\n",
        "                  f'Loss: {running_loss / running_items:.3f}. ' \\\n",
        "                  f'Acc: {running_right / running_items:.3f}', end='. ')\n",
        "            running_loss, running_items, running_right = 0.0, 0.0, 0.0\n",
        "\n",
        "            test_running_right, test_running_total = 0.0, 0.0\n",
        "            for i, data in enumerate(test_loader):\n",
        "            \n",
        "                test_outputs = net(data[0].cuda())\n",
        "                test_running_total += len(data[1])\n",
        "                test_running_right += (data[1].cuda() == torch.max(test_outputs, 1)[1]).sum()\n",
        "            \n",
        "            print(f'Test acc: {test_running_right / test_running_total:.3f}')\n",
        "        \n",
        "        net.train()\n",
        "        \n",
        "print('Training is finished!')"
      ],
      "metadata": {
        "colab": {
          "base_uri": "https://localhost:8080/"
        },
        "id": "aGq_i76Ztvfu",
        "outputId": "54ed6b8c-fc0f-4ff7-ac15-96c121abb412"
      },
      "execution_count": 17,
      "outputs": [
        {
          "output_type": "stream",
          "name": "stdout",
          "text": [
            "Epoch [1/10]. Step [1/475]. Loss: 0.048. Acc: 0.030. Test acc: 0.010\n",
            "Epoch [1/10]. Step [301/475]. Loss: 0.038. Acc: 0.124. Test acc: 0.184\n",
            "Epoch [2/10]. Step [1/475]. Loss: 0.033. Acc: 0.200. Test acc: 0.233\n",
            "Epoch [2/10]. Step [301/475]. Loss: 0.031. Acc: 0.237. Test acc: 0.259\n",
            "Epoch [3/10]. Step [1/475]. Loss: 0.028. Acc: 0.300. Test acc: 0.282\n",
            "Epoch [3/10]. Step [301/475]. Loss: 0.028. Acc: 0.290. Test acc: 0.304\n",
            "Epoch [4/10]. Step [1/475]. Loss: 0.027. Acc: 0.360. Test acc: 0.308\n",
            "Epoch [4/10]. Step [301/475]. Loss: 0.026. Acc: 0.324. Test acc: 0.299\n",
            "Epoch [5/10]. Step [1/475]. Loss: 0.024. Acc: 0.360. Test acc: 0.307\n",
            "Epoch [5/10]. Step [301/475]. Loss: 0.025. Acc: 0.346. Test acc: 0.324\n",
            "Epoch [6/10]. Step [1/475]. Loss: 0.025. Acc: 0.320. Test acc: 0.344\n",
            "Epoch [6/10]. Step [301/475]. Loss: 0.024. Acc: 0.368. Test acc: 0.334\n",
            "Epoch [7/10]. Step [1/475]. Loss: 0.024. Acc: 0.380. Test acc: 0.351\n",
            "Epoch [7/10]. Step [301/475]. Loss: 0.024. Acc: 0.389. Test acc: 0.341\n",
            "Epoch [8/10]. Step [1/475]. Loss: 0.024. Acc: 0.350. Test acc: 0.354\n",
            "Epoch [8/10]. Step [301/475]. Loss: 0.023. Acc: 0.399. Test acc: 0.358\n",
            "Epoch [9/10]. Step [1/475]. Loss: 0.020. Acc: 0.510. Test acc: 0.351\n",
            "Epoch [9/10]. Step [301/475]. Loss: 0.023. Acc: 0.409. Test acc: 0.350\n",
            "Epoch [10/10]. Step [1/475]. Loss: 0.022. Acc: 0.450. Test acc: 0.370\n",
            "Epoch [10/10]. Step [301/475]. Loss: 0.022. Acc: 0.423. Test acc: 0.358\n",
            "Training is finished!\n"
          ]
        }
      ]
    },
    {
      "cell_type": "markdown",
      "source": [
        "Самописная CNN показала метрику 0.35 на тесте"
      ],
      "metadata": {
        "id": "RLMKjGlvuU34"
      }
    },
    {
      "cell_type": "markdown",
      "source": [
        "### Обучение CNN на CIFAR-100 через дообучение ImageNet Resnet-50"
      ],
      "metadata": {
        "id": "c3355mCnusg4"
      }
    },
    {
      "cell_type": "code",
      "source": [
        "model = models.resnet50(pretrained=True)"
      ],
      "metadata": {
        "colab": {
          "base_uri": "https://localhost:8080/",
          "height": 67,
          "referenced_widgets": [
            "6835692a33b24fe693e4eeea81d4972b",
            "f32c4b8f8fc244f4b4420953dfd61486",
            "7740a969df2049e7874ee7660deacb5d",
            "95b6bf7db82c43b9b3e2986813b483b6",
            "61702ed2a9b045f1b0ac95fe2c8dce53",
            "ada993e9ddf84d4fbf2ff436b0e3ecf6",
            "33d7d6a34aeb443a9608029e52fc76ff",
            "1eabacfff0ec45b39a8a177141662457",
            "91beabc42b50489da1bad9fcb8b18d32",
            "ee465640b50c4292bac6991b28055b7c",
            "eb1a67135164452da04efec9aa696378"
          ]
        },
        "id": "nW62CN61urb1",
        "outputId": "c0904c1e-b276-4ca9-877f-741ef75824ac"
      },
      "execution_count": 19,
      "outputs": [
        {
          "output_type": "stream",
          "name": "stderr",
          "text": [
            "Downloading: \"https://download.pytorch.org/models/resnet50-0676ba61.pth\" to /root/.cache/torch/hub/checkpoints/resnet50-0676ba61.pth\n"
          ]
        },
        {
          "output_type": "display_data",
          "data": {
            "text/plain": [
              "  0%|          | 0.00/97.8M [00:00<?, ?B/s]"
            ],
            "application/vnd.jupyter.widget-view+json": {
              "version_major": 2,
              "version_minor": 0,
              "model_id": "6835692a33b24fe693e4eeea81d4972b"
            }
          },
          "metadata": {}
        }
      ]
    },
    {
      "cell_type": "code",
      "source": [
        "for param in list(model.parameters())[:]:\n",
        "    param.requires_grad = False"
      ],
      "metadata": {
        "id": "GEPDz9Rpvy3z"
      },
      "execution_count": 22,
      "outputs": []
    },
    {
      "cell_type": "code",
      "source": [
        "model.dp1 = nn.Dropout(0.2)\n",
        "model.fc = nn.Linear(2048, 1024)\n",
        "model.dp2 = nn.Dropout(0.2)\n",
        "model.fc2 = nn.Linear(1024, 100)"
      ],
      "metadata": {
        "id": "kpOM4Skau_yu"
      },
      "execution_count": 23,
      "outputs": []
    },
    {
      "cell_type": "code",
      "source": [
        "trans_actions = transforms.Compose([transforms.ToTensor(),\n",
        "                                    transforms.Normalize(mean=[0.485, 0.456, 0.406], std=[0.229, 0.224, 0.225])]\n",
        "                                  )\n",
        "test_transforms = transforms.Compose([transforms.ToTensor(),\n",
        "                                       transforms.Normalize(mean=[0.485, 0.456, 0.406], std=[0.229, 0.224, 0.225])]\n",
        "                                     )\n",
        "\n",
        "train_dataset, test_dataset = train_valid_split(dataset)\n",
        "\n",
        "train_dataset = MyOwnCifar(train_dataset, trans_actions)\n",
        "test_dataset = MyOwnCifar(test_dataset, test_transforms)\n",
        "\n",
        "train_loader = DataLoader(train_dataset,\n",
        "                          batch_size=100,\n",
        "                          shuffle=True,\n",
        "                          num_workers=0)\n",
        "test_loader = DataLoader(test_dataset,\n",
        "                         batch_size=100,\n",
        "                         shuffle=False,\n",
        "                         num_workers=0)"
      ],
      "metadata": {
        "id": "7sogkwGRvI3n"
      },
      "execution_count": 24,
      "outputs": []
    },
    {
      "cell_type": "code",
      "source": [
        "optimizer = Adam(model.parameters(), lr=0.01)\n",
        "criterion = nn.CrossEntropyLoss()"
      ],
      "metadata": {
        "id": "UgcZusH9v2In"
      },
      "execution_count": 25,
      "outputs": []
    },
    {
      "cell_type": "code",
      "source": [
        "model.cuda()\n",
        "num_epochs = 10\n",
        "model.train()\n",
        "\n",
        "for epoch in range(num_epochs):  \n",
        "    running_loss, running_items, running_right = 0.0, 0.0, 0.0\n",
        "    for i, data in enumerate(train_loader, 0):\n",
        "        inputs, labels = data[0].cuda(), data[1].cuda()\n",
        "\n",
        "        # обнуляем градиент\n",
        "        optimizer.zero_grad()\n",
        "\n",
        "        outputs = model(inputs)\n",
        "        loss = criterion(outputs, labels)\n",
        "        loss.backward()\n",
        "        optimizer.step()\n",
        "\n",
        "        # выводим статистику о процессе обучения\n",
        "        running_loss += loss.item()\n",
        "        running_items += len(labels)\n",
        "        running_right += (labels == torch.max(outputs, 1)[1]).sum()\n",
        "        \n",
        "        # выводим статистику о процессе обучения\n",
        "        if i % 300 == 0:    # печатаем каждые 300 mini-batches\n",
        "            model.eval()\n",
        "            \n",
        "            print(f'Epoch [{epoch + 1}/{num_epochs}]. ' \\\n",
        "                  f'Step [{i + 1}/{len(train_loader)}]. ' \\\n",
        "                  f'Loss: {running_loss / running_items:.3f}. ' \\\n",
        "                  f'Acc: {running_right / running_items:.3f}', end='. ')\n",
        "            running_loss, running_items, running_right = 0.0, 0.0, 0.0\n",
        "\n",
        "            test_running_right, test_running_total = 0.0, 0.0\n",
        "            for i, data in enumerate(test_loader):\n",
        "            \n",
        "                test_outputs = model(data[0].cuda())\n",
        "                test_running_total += len(data[1])\n",
        "                test_running_right += (data[1].cuda() == torch.max(test_outputs, 1)[1]).sum()\n",
        "            \n",
        "            print(f'Test acc: {test_running_right / test_running_total:.3f}')\n",
        "        \n",
        "        model.train()\n",
        "        \n",
        "print('Training is finished!')"
      ],
      "metadata": {
        "colab": {
          "base_uri": "https://localhost:8080/"
        },
        "id": "RidW2dCYv6Vl",
        "outputId": "50649214-294d-4e94-a93e-2c96372cef3f"
      },
      "execution_count": 27,
      "outputs": [
        {
          "output_type": "stream",
          "name": "stdout",
          "text": [
            "Epoch [1/10]. Step [1/475]. Loss: 0.134. Acc: 0.000. Test acc: 0.024\n",
            "Epoch [1/10]. Step [301/475]. Loss: 0.071. Acc: 0.153. Test acc: 0.192\n",
            "Epoch [2/10]. Step [1/475]. Loss: 0.079. Acc: 0.190. Test acc: 0.204\n",
            "Epoch [2/10]. Step [301/475]. Loss: 0.069. Acc: 0.222. Test acc: 0.199\n",
            "Epoch [3/10]. Step [1/475]. Loss: 0.061. Acc: 0.300. Test acc: 0.198\n",
            "Epoch [3/10]. Step [301/475]. Loss: 0.069. Acc: 0.247. Test acc: 0.226\n",
            "Epoch [4/10]. Step [1/475]. Loss: 0.055. Acc: 0.320. Test acc: 0.228\n",
            "Epoch [4/10]. Step [301/475]. Loss: 0.068. Acc: 0.271. Test acc: 0.214\n",
            "Epoch [5/10]. Step [1/475]. Loss: 0.056. Acc: 0.340. Test acc: 0.224\n",
            "Epoch [5/10]. Step [301/475]. Loss: 0.067. Acc: 0.279. Test acc: 0.231\n",
            "Epoch [6/10]. Step [1/475]. Loss: 0.057. Acc: 0.360. Test acc: 0.232\n",
            "Epoch [6/10]. Step [301/475]. Loss: 0.067. Acc: 0.297. Test acc: 0.230\n",
            "Epoch [7/10]. Step [1/475]. Loss: 0.058. Acc: 0.420. Test acc: 0.230\n",
            "Epoch [7/10]. Step [301/475]. Loss: 0.066. Acc: 0.307. Test acc: 0.229\n",
            "Epoch [8/10]. Step [1/475]. Loss: 0.068. Acc: 0.290. Test acc: 0.236\n",
            "Epoch [8/10]. Step [301/475]. Loss: 0.066. Acc: 0.311. Test acc: 0.236\n",
            "Epoch [9/10]. Step [1/475]. Loss: 0.066. Acc: 0.390. Test acc: 0.227\n",
            "Epoch [9/10]. Step [301/475]. Loss: 0.067. Acc: 0.315. Test acc: 0.226\n",
            "Epoch [10/10]. Step [1/475]. Loss: 0.063. Acc: 0.320. Test acc: 0.241\n",
            "Epoch [10/10]. Step [301/475]. Loss: 0.066. Acc: 0.326. Test acc: 0.245\n",
            "Training is finished!\n"
          ]
        }
      ]
    },
    {
      "cell_type": "markdown",
      "source": [
        "ImageNet Resnet-50 показывает метрику на тесте ниже (0.24), чем самописная"
      ],
      "metadata": {
        "id": "ezXdK9Ynw-ZW"
      }
    }
  ]
}