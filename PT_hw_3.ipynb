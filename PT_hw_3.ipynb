{
  "nbformat": 4,
  "nbformat_minor": 0,
  "metadata": {
    "colab": {
      "name": "PT_hw_3.ipynb",
      "provenance": [],
      "collapsed_sections": []
    },
    "kernelspec": {
      "name": "python3",
      "display_name": "Python 3"
    },
    "language_info": {
      "name": "python"
    },
    "accelerator": "GPU"
  },
  "cells": [
    {
      "cell_type": "markdown",
      "source": [
        "# Урок 3. Dataset, Dataloader, BatchNorm, Dropout, Оптимизация"
      ],
      "metadata": {
        "id": "ENWsYj_x9E3Y"
      }
    },
    {
      "cell_type": "markdown",
      "source": [
        "## Домашнее задание"
      ],
      "metadata": {
        "id": "mUU8no0M9VVP"
      }
    },
    {
      "cell_type": "markdown",
      "source": [
        "Будем практиковаться на датасете недвижимости (sklearn.datasets.fetch_california_housing)\n",
        "\n",
        "Ваша задача:\n",
        "\n",
        "1. Создать Dataset для загрузки данных\n",
        "\n",
        "2. Обернуть его в Dataloader\n",
        "\n",
        "3. Написать архитектуру сети, которая предсказывает стоимость недвижимости. Сеть должна включать BatchNorm слои и Dropout (или НЕ включать, но нужно обосновать)\n",
        "\n",
        "4. Сравните сходимость Adam, RMSProp и SGD, сделайте вывод по качеству работы модели\n",
        "\n",
        "train-test разделение нужно сделать с помощью sklearn random_state=13, test_size = 0.25"
      ],
      "metadata": {
        "id": "eFSivcV_9cgG"
      }
    },
    {
      "cell_type": "markdown",
      "source": [
        "### Подключение библиотек"
      ],
      "metadata": {
        "id": "_-D-mEZ_93yf"
      }
    },
    {
      "cell_type": "code",
      "execution_count": 1,
      "metadata": {
        "id": "MPS4yRajpccZ"
      },
      "outputs": [],
      "source": [
        "import numpy as np\n",
        "import pandas as pd\n",
        "import matplotlib.pyplot as plt\n",
        "\n",
        "from sklearn.datasets import fetch_california_housing\n",
        "from sklearn.model_selection import train_test_split\n",
        "from sklearn.preprocessing import MinMaxScaler\n",
        "from sklearn.metrics import r2_score\n",
        "\n",
        "import torch\n",
        "from torch.utils.data import Dataset, DataLoader\n",
        "import torch.nn.functional as F\n",
        "import torch.nn as nn\n",
        "from torch.optim import Adam, SGD, RMSprop\n",
        "\n",
        "\n",
        "import warnings\n",
        "warnings.filterwarnings('ignore')"
      ]
    },
    {
      "cell_type": "markdown",
      "source": [
        "### Загрузка и подготовка данных"
      ],
      "metadata": {
        "id": "VBcEVJg39_hO"
      }
    },
    {
      "cell_type": "code",
      "source": [
        "df = fetch_california_housing(as_frame=True).frame\n",
        "df.head()"
      ],
      "metadata": {
        "colab": {
          "base_uri": "https://localhost:8080/",
          "height": 206
        },
        "id": "AEk9EJKsqZ-A",
        "outputId": "b57f01e0-b723-49e1-fd94-764eee58759b"
      },
      "execution_count": 2,
      "outputs": [
        {
          "output_type": "execute_result",
          "data": {
            "text/plain": [
              "   MedInc  HouseAge  AveRooms  AveBedrms  Population  AveOccup  Latitude  \\\n",
              "0  8.3252      41.0  6.984127   1.023810       322.0  2.555556     37.88   \n",
              "1  8.3014      21.0  6.238137   0.971880      2401.0  2.109842     37.86   \n",
              "2  7.2574      52.0  8.288136   1.073446       496.0  2.802260     37.85   \n",
              "3  5.6431      52.0  5.817352   1.073059       558.0  2.547945     37.85   \n",
              "4  3.8462      52.0  6.281853   1.081081       565.0  2.181467     37.85   \n",
              "\n",
              "   Longitude  MedHouseVal  \n",
              "0    -122.23        4.526  \n",
              "1    -122.22        3.585  \n",
              "2    -122.24        3.521  \n",
              "3    -122.25        3.413  \n",
              "4    -122.25        3.422  "
            ],
            "text/html": [
              "\n",
              "  <div id=\"df-72981f22-4450-4fd1-bac7-ddf0aff15c07\">\n",
              "    <div class=\"colab-df-container\">\n",
              "      <div>\n",
              "<style scoped>\n",
              "    .dataframe tbody tr th:only-of-type {\n",
              "        vertical-align: middle;\n",
              "    }\n",
              "\n",
              "    .dataframe tbody tr th {\n",
              "        vertical-align: top;\n",
              "    }\n",
              "\n",
              "    .dataframe thead th {\n",
              "        text-align: right;\n",
              "    }\n",
              "</style>\n",
              "<table border=\"1\" class=\"dataframe\">\n",
              "  <thead>\n",
              "    <tr style=\"text-align: right;\">\n",
              "      <th></th>\n",
              "      <th>MedInc</th>\n",
              "      <th>HouseAge</th>\n",
              "      <th>AveRooms</th>\n",
              "      <th>AveBedrms</th>\n",
              "      <th>Population</th>\n",
              "      <th>AveOccup</th>\n",
              "      <th>Latitude</th>\n",
              "      <th>Longitude</th>\n",
              "      <th>MedHouseVal</th>\n",
              "    </tr>\n",
              "  </thead>\n",
              "  <tbody>\n",
              "    <tr>\n",
              "      <th>0</th>\n",
              "      <td>8.3252</td>\n",
              "      <td>41.0</td>\n",
              "      <td>6.984127</td>\n",
              "      <td>1.023810</td>\n",
              "      <td>322.0</td>\n",
              "      <td>2.555556</td>\n",
              "      <td>37.88</td>\n",
              "      <td>-122.23</td>\n",
              "      <td>4.526</td>\n",
              "    </tr>\n",
              "    <tr>\n",
              "      <th>1</th>\n",
              "      <td>8.3014</td>\n",
              "      <td>21.0</td>\n",
              "      <td>6.238137</td>\n",
              "      <td>0.971880</td>\n",
              "      <td>2401.0</td>\n",
              "      <td>2.109842</td>\n",
              "      <td>37.86</td>\n",
              "      <td>-122.22</td>\n",
              "      <td>3.585</td>\n",
              "    </tr>\n",
              "    <tr>\n",
              "      <th>2</th>\n",
              "      <td>7.2574</td>\n",
              "      <td>52.0</td>\n",
              "      <td>8.288136</td>\n",
              "      <td>1.073446</td>\n",
              "      <td>496.0</td>\n",
              "      <td>2.802260</td>\n",
              "      <td>37.85</td>\n",
              "      <td>-122.24</td>\n",
              "      <td>3.521</td>\n",
              "    </tr>\n",
              "    <tr>\n",
              "      <th>3</th>\n",
              "      <td>5.6431</td>\n",
              "      <td>52.0</td>\n",
              "      <td>5.817352</td>\n",
              "      <td>1.073059</td>\n",
              "      <td>558.0</td>\n",
              "      <td>2.547945</td>\n",
              "      <td>37.85</td>\n",
              "      <td>-122.25</td>\n",
              "      <td>3.413</td>\n",
              "    </tr>\n",
              "    <tr>\n",
              "      <th>4</th>\n",
              "      <td>3.8462</td>\n",
              "      <td>52.0</td>\n",
              "      <td>6.281853</td>\n",
              "      <td>1.081081</td>\n",
              "      <td>565.0</td>\n",
              "      <td>2.181467</td>\n",
              "      <td>37.85</td>\n",
              "      <td>-122.25</td>\n",
              "      <td>3.422</td>\n",
              "    </tr>\n",
              "  </tbody>\n",
              "</table>\n",
              "</div>\n",
              "      <button class=\"colab-df-convert\" onclick=\"convertToInteractive('df-72981f22-4450-4fd1-bac7-ddf0aff15c07')\"\n",
              "              title=\"Convert this dataframe to an interactive table.\"\n",
              "              style=\"display:none;\">\n",
              "        \n",
              "  <svg xmlns=\"http://www.w3.org/2000/svg\" height=\"24px\"viewBox=\"0 0 24 24\"\n",
              "       width=\"24px\">\n",
              "    <path d=\"M0 0h24v24H0V0z\" fill=\"none\"/>\n",
              "    <path d=\"M18.56 5.44l.94 2.06.94-2.06 2.06-.94-2.06-.94-.94-2.06-.94 2.06-2.06.94zm-11 1L8.5 8.5l.94-2.06 2.06-.94-2.06-.94L8.5 2.5l-.94 2.06-2.06.94zm10 10l.94 2.06.94-2.06 2.06-.94-2.06-.94-.94-2.06-.94 2.06-2.06.94z\"/><path d=\"M17.41 7.96l-1.37-1.37c-.4-.4-.92-.59-1.43-.59-.52 0-1.04.2-1.43.59L10.3 9.45l-7.72 7.72c-.78.78-.78 2.05 0 2.83L4 21.41c.39.39.9.59 1.41.59.51 0 1.02-.2 1.41-.59l7.78-7.78 2.81-2.81c.8-.78.8-2.07 0-2.86zM5.41 20L4 18.59l7.72-7.72 1.47 1.35L5.41 20z\"/>\n",
              "  </svg>\n",
              "      </button>\n",
              "      \n",
              "  <style>\n",
              "    .colab-df-container {\n",
              "      display:flex;\n",
              "      flex-wrap:wrap;\n",
              "      gap: 12px;\n",
              "    }\n",
              "\n",
              "    .colab-df-convert {\n",
              "      background-color: #E8F0FE;\n",
              "      border: none;\n",
              "      border-radius: 50%;\n",
              "      cursor: pointer;\n",
              "      display: none;\n",
              "      fill: #1967D2;\n",
              "      height: 32px;\n",
              "      padding: 0 0 0 0;\n",
              "      width: 32px;\n",
              "    }\n",
              "\n",
              "    .colab-df-convert:hover {\n",
              "      background-color: #E2EBFA;\n",
              "      box-shadow: 0px 1px 2px rgba(60, 64, 67, 0.3), 0px 1px 3px 1px rgba(60, 64, 67, 0.15);\n",
              "      fill: #174EA6;\n",
              "    }\n",
              "\n",
              "    [theme=dark] .colab-df-convert {\n",
              "      background-color: #3B4455;\n",
              "      fill: #D2E3FC;\n",
              "    }\n",
              "\n",
              "    [theme=dark] .colab-df-convert:hover {\n",
              "      background-color: #434B5C;\n",
              "      box-shadow: 0px 1px 3px 1px rgba(0, 0, 0, 0.15);\n",
              "      filter: drop-shadow(0px 1px 2px rgba(0, 0, 0, 0.3));\n",
              "      fill: #FFFFFF;\n",
              "    }\n",
              "  </style>\n",
              "\n",
              "      <script>\n",
              "        const buttonEl =\n",
              "          document.querySelector('#df-72981f22-4450-4fd1-bac7-ddf0aff15c07 button.colab-df-convert');\n",
              "        buttonEl.style.display =\n",
              "          google.colab.kernel.accessAllowed ? 'block' : 'none';\n",
              "\n",
              "        async function convertToInteractive(key) {\n",
              "          const element = document.querySelector('#df-72981f22-4450-4fd1-bac7-ddf0aff15c07');\n",
              "          const dataTable =\n",
              "            await google.colab.kernel.invokeFunction('convertToInteractive',\n",
              "                                                     [key], {});\n",
              "          if (!dataTable) return;\n",
              "\n",
              "          const docLinkHtml = 'Like what you see? Visit the ' +\n",
              "            '<a target=\"_blank\" href=https://colab.research.google.com/notebooks/data_table.ipynb>data table notebook</a>'\n",
              "            + ' to learn more about interactive tables.';\n",
              "          element.innerHTML = '';\n",
              "          dataTable['output_type'] = 'display_data';\n",
              "          await google.colab.output.renderOutput(dataTable, element);\n",
              "          const docLink = document.createElement('div');\n",
              "          docLink.innerHTML = docLinkHtml;\n",
              "          element.appendChild(docLink);\n",
              "        }\n",
              "      </script>\n",
              "    </div>\n",
              "  </div>\n",
              "  "
            ]
          },
          "metadata": {},
          "execution_count": 2
        }
      ]
    },
    {
      "cell_type": "code",
      "source": [
        "x = df.drop(columns = 'MedHouseVal')\n",
        "y= df['MedHouseVal']\n",
        "x.shape, y.shape"
      ],
      "metadata": {
        "colab": {
          "base_uri": "https://localhost:8080/"
        },
        "id": "DriT4GjLrPKv",
        "outputId": "1e78b097-ab9f-41ab-d8e3-3868d769b6b1"
      },
      "execution_count": 3,
      "outputs": [
        {
          "output_type": "execute_result",
          "data": {
            "text/plain": [
              "((20640, 8), (20640,))"
            ]
          },
          "metadata": {},
          "execution_count": 3
        }
      ]
    },
    {
      "cell_type": "code",
      "source": [
        "x_train, x_test, y_train, y_test = train_test_split(x, y, test_size = 0.25, random_state = 13)\n",
        "x_train.shape, x_test.shape, y_train.shape, y_test.shape"
      ],
      "metadata": {
        "colab": {
          "base_uri": "https://localhost:8080/"
        },
        "id": "2uQfsOEFsQOx",
        "outputId": "ea97f173-0aa7-442f-a786-c7eb3c322b73"
      },
      "execution_count": 4,
      "outputs": [
        {
          "output_type": "execute_result",
          "data": {
            "text/plain": [
              "((15480, 8), (5160, 8), (15480,), (5160,))"
            ]
          },
          "metadata": {},
          "execution_count": 4
        }
      ]
    },
    {
      "cell_type": "code",
      "source": [
        "scaler = MinMaxScaler()\n",
        "x_train = scaler.fit_transform(x_train)\n",
        "x_test = scaler.transform(x_test)"
      ],
      "metadata": {
        "id": "bygxz3OIyB6J"
      },
      "execution_count": 5,
      "outputs": []
    },
    {
      "cell_type": "code",
      "source": [
        "x_train = torch.FloatTensor(x_train)\n",
        "y_train = torch.FloatTensor(y_train.values)\n",
        "\n",
        "x_test = torch.FloatTensor(x_test)\n",
        "y_test = torch.FloatTensor(y_test.values)"
      ],
      "metadata": {
        "id": "wqr5nujQ0nwi"
      },
      "execution_count": 6,
      "outputs": []
    },
    {
      "cell_type": "markdown",
      "source": [
        "### Создание Dataset и оборачивание его в DataLoader"
      ],
      "metadata": {
        "id": "AjXpyCfE-J0C"
      }
    },
    {
      "cell_type": "code",
      "source": [
        "class Data(Dataset):\n",
        "\n",
        "  def __init__(self, data, target):\n",
        "    self.x = data\n",
        "    self.y = target\n",
        "\n",
        "  def __len__(self):\n",
        "    return len(self.x)\n",
        "\n",
        "  def __getitem__(self, idx):\n",
        "    return [self.x[idx], self.y[idx]]"
      ],
      "metadata": {
        "id": "_h2aa0k919ja"
      },
      "execution_count": 7,
      "outputs": []
    },
    {
      "cell_type": "code",
      "source": [
        "train_data = Data(x_train, y_train)\n",
        "train_loader = DataLoader(train_data,\n",
        "                          batch_size = 128,\n",
        "                          shuffle = True,\n",
        "                          drop_last = True,\n",
        "                          num_workers = 0)"
      ],
      "metadata": {
        "id": "zbF1hetsmhYv"
      },
      "execution_count": 8,
      "outputs": []
    },
    {
      "cell_type": "code",
      "source": [
        "test_data = Data(x_test, y_test)\n",
        "test_loader = DataLoader(test_data,\n",
        "                          batch_size = 128,\n",
        "                          shuffle = True,\n",
        "                          drop_last = True,\n",
        "                          num_workers = 0)"
      ],
      "metadata": {
        "id": "955hMA824mPE"
      },
      "execution_count": 9,
      "outputs": []
    },
    {
      "cell_type": "markdown",
      "source": [
        "### Сборка нейронной сети"
      ],
      "metadata": {
        "id": "WYC2kiFk-XhY"
      }
    },
    {
      "cell_type": "code",
      "source": [
        "class Perceptron(nn.Module):\n",
        "    \n",
        "    def __init__(self, input_dim, output_dim, activation='relu'):\n",
        "        \n",
        "        super().__init__()\n",
        "        self.fc = nn.Linear(input_dim, output_dim).cuda()\n",
        "        assert activation in ['relu', 'sigmoid'], 'Activation func should be \"relu\" or \"sigmoid\"!'\n",
        "        self.activation = activation\n",
        "        \n",
        "    def forward(self, x):\n",
        "        \n",
        "        x = self.fc(x).cuda()\n",
        "        return eval(f'F.{self.activation}')(x)     "
      ],
      "metadata": {
        "id": "shGb1O695BIh"
      },
      "execution_count": 10,
      "outputs": []
    },
    {
      "cell_type": "code",
      "source": [
        "class FeedForward(nn.Module):\n",
        "    \n",
        "    def __init__(self, input_dim, hidden_dim):\n",
        "        \n",
        "        super(FeedForward, self).__init__()\n",
        "        \n",
        "        self.fc1 = Perceptron(input_dim, 4*hidden_dim).cuda()\n",
        "        self.dp1 = nn.Dropout(0.4).cuda()\n",
        "        self.bn1 = nn.BatchNorm1d(4*hidden_dim).cuda()\n",
        "\n",
        "        self.fc2 = Perceptron(4*hidden_dim, 2*hidden_dim).cuda()\n",
        "        self.dp2 = nn.Dropout(0.3).cuda()\n",
        "        self.bn2 = nn.BatchNorm1d(2*hidden_dim).cuda()\n",
        "        \n",
        "        self.fc3 = Perceptron(2*hidden_dim, hidden_dim).cuda()\n",
        "        self.dp3 = nn.Dropout(0.2).cuda()\n",
        "        self.bn3 = nn.BatchNorm1d(hidden_dim).cuda()\n",
        "        \n",
        "        self.fc4 = Perceptron(hidden_dim, 1).cuda()\n",
        "        \n",
        "    def forward(self, x):\n",
        "        \n",
        "        x = self.fc1(x).cuda()\n",
        "        x = self.bn1(x).cuda()\n",
        "        x = self.dp1(x).cuda()\n",
        "        \n",
        "        x = self.fc2(x).cuda()\n",
        "        x = self.bn2(x).cuda()\n",
        "        x = self.dp2(x).cuda()\n",
        "        \n",
        "        x = self.fc3(x).cuda()\n",
        "        x = self.bn3(x).cuda()\n",
        "        x = self.dp3(x).cuda()\n",
        "        \n",
        "        x = self.fc4(x).cuda()\n",
        "        \n",
        "        return x"
      ],
      "metadata": {
        "id": "C43Dl-_l52gu"
      },
      "execution_count": 11,
      "outputs": []
    },
    {
      "cell_type": "markdown",
      "source": [
        "### Обучение нейронной сети с оптимизатором SGD"
      ],
      "metadata": {
        "id": "jsNYgiF4-wWC"
      }
    },
    {
      "cell_type": "code",
      "source": [
        "net = FeedForward(8, 1024)\n",
        "\n",
        "optimizer = SGD(net.parameters(), lr=0.005)\n",
        "criterion = nn.L1Loss()"
      ],
      "metadata": {
        "id": "JpAJfz2l6CpO"
      },
      "execution_count": 12,
      "outputs": []
    },
    {
      "cell_type": "code",
      "source": [
        "epochs = 200\n",
        "\n",
        "net.train()\n",
        "metrics_train = []\n",
        "metrics_test = []\n",
        "\n",
        "for ep in range(epochs):\n",
        "    running_loss, running_items = 0.0, 0.0\n",
        "    for i, data in enumerate(train_loader):\n",
        "        inputs, labels = data[0].cuda(), data[1].cuda()\n",
        "        \n",
        "        optimizer.zero_grad()\n",
        "        outputs = net(inputs)\n",
        "        loss = criterion(outputs.squeeze(), labels)\n",
        "        loss.backward()\n",
        "        optimizer.step()\n",
        "        \n",
        "        running_loss += loss.item()\n",
        "        running_items += len(labels)\n",
        "        \n",
        "        train_res = net(inputs)\n",
        "        metrics_train.append(r2_score(labels.cpu().detach().numpy(), train_res.cpu().detach().numpy().reshape(-1)))\n",
        "        \n",
        "    if (ep + 1)%20 == 0:  \n",
        "        net.eval()\n",
        "\n",
        "        print(f'Epoch [{ep + 1}/{epochs}] | ' \\\n",
        "              f'Step [{i + 1}/{len(train_loader)}] | ' \\\n",
        "              f'Loss: {running_loss / running_items:.3f} | ' \\\n",
        "              f'Train R2: {sum(metrics_train) / len(metrics_train):.3f} | ', end='')\n",
        "\n",
        "        running_loss, running_items = 0.0, 0.0\n",
        "        metrics_train = []\n",
        "\n",
        "        for i, data in enumerate(test_loader):\n",
        "            test_res = net(data[0].cuda())\n",
        "            metrics_test.append(r2_score(data[1].cpu().detach().numpy(), test_res.cpu().detach().numpy().reshape(-1)))\n",
        "        print(f'Test R2: {sum(metrics_test) / len(metrics_test):.3f}')\n",
        "        metrics_test = []\n",
        "        net.train()\n",
        "print('Training is finished!')"
      ],
      "metadata": {
        "colab": {
          "base_uri": "https://localhost:8080/"
        },
        "id": "Fp7V1mGD6UCx",
        "outputId": "d5b08509-4059-4cd9-89ec-e2afe5152aec"
      },
      "execution_count": 13,
      "outputs": [
        {
          "output_type": "stream",
          "name": "stdout",
          "text": [
            "Epoch [20/200] | Step [120/120] | Loss: 0.005 | Train R2: 0.357 | Test R2: 0.517\n",
            "Epoch [40/200] | Step [120/120] | Loss: 0.004 | Train R2: 0.566 | Test R2: 0.612\n",
            "Epoch [60/200] | Step [120/120] | Loss: 0.004 | Train R2: 0.629 | Test R2: 0.658\n",
            "Epoch [80/200] | Step [120/120] | Loss: 0.004 | Train R2: 0.657 | Test R2: 0.674\n",
            "Epoch [100/200] | Step [120/120] | Loss: 0.004 | Train R2: 0.669 | Test R2: 0.677\n",
            "Epoch [120/200] | Step [120/120] | Loss: 0.004 | Train R2: 0.674 | Test R2: 0.673\n",
            "Epoch [140/200] | Step [120/120] | Loss: 0.004 | Train R2: 0.678 | Test R2: 0.669\n",
            "Epoch [160/200] | Step [120/120] | Loss: 0.004 | Train R2: 0.681 | Test R2: 0.666\n",
            "Epoch [180/200] | Step [120/120] | Loss: 0.003 | Train R2: 0.683 | Test R2: 0.680\n",
            "Epoch [200/200] | Step [120/120] | Loss: 0.003 | Train R2: 0.686 | Test R2: 0.663\n",
            "Training is finished!\n"
          ]
        }
      ]
    },
    {
      "cell_type": "markdown",
      "source": [
        "С оптимизатором SGD метрики R2 начинают сходится к 200-ой эпохе"
      ],
      "metadata": {
        "id": "VqRafiK5-9Pb"
      }
    },
    {
      "cell_type": "markdown",
      "source": [
        "### Обучение нейронной сети с оптимизатором Adam"
      ],
      "metadata": {
        "id": "Q4DpDNEP_QfB"
      }
    },
    {
      "cell_type": "code",
      "source": [
        "net = FeedForward(8, 512)\n",
        "\n",
        "optimizer = Adam(net.parameters(), lr=0.001)\n",
        "criterion = nn.MSELoss()"
      ],
      "metadata": {
        "id": "-y-lNfeE7Kpy"
      },
      "execution_count": 14,
      "outputs": []
    },
    {
      "cell_type": "code",
      "source": [
        "epochs = 200\n",
        "\n",
        "net.train()\n",
        "metrics_train = []\n",
        "metrics_test = []\n",
        "\n",
        "for ep in range(epochs):\n",
        "    running_loss, running_items = 0.0, 0.0\n",
        "    for i, data in enumerate(train_loader):\n",
        "        inputs, labels = data[0].cuda(), data[1].cuda()\n",
        "        \n",
        "        optimizer.zero_grad()\n",
        "        outputs = net(inputs)\n",
        "        loss = criterion(outputs.squeeze(), labels)\n",
        "        loss.backward()\n",
        "        optimizer.step()\n",
        "        \n",
        "        running_loss += loss.item()\n",
        "        running_items += len(labels)\n",
        "        \n",
        "        train_res = net(inputs)\n",
        "        metrics_train.append(r2_score(labels.cpu().detach().numpy(), train_res.cpu().detach().numpy().reshape(-1)))\n",
        "        \n",
        "    if (ep + 1)%20 == 0:  \n",
        "        net.eval()\n",
        "\n",
        "        print(f'Epoch [{ep + 1}/{epochs}] | ' \\\n",
        "              f'Step [{i + 1}/{len(train_loader)}] | ' \\\n",
        "              f'Loss: {running_loss / running_items:.3f} | ' \\\n",
        "              f'Train R2: {sum(metrics_train) / len(metrics_train):.3f} | ', end='')\n",
        "\n",
        "        running_loss, running_items = 0.0, 0.0\n",
        "        metrics_train = []\n",
        "\n",
        "        for i, data in enumerate(test_loader):\n",
        "            test_res = net(data[0].cuda())\n",
        "            metrics_test.append(r2_score(data[1].cpu().detach().numpy(), test_res.cpu().detach().numpy().reshape(-1)))\n",
        "        print(f'Test R2: {sum(metrics_test) / len(metrics_test):.3f}')\n",
        "        metrics_test = []\n",
        "        net.train()\n",
        "print('Training is finished!')"
      ],
      "metadata": {
        "colab": {
          "base_uri": "https://localhost:8080/"
        },
        "id": "e4jrqC7h7OCd",
        "outputId": "58997819-57d9-4329-d81b-2ad2ef71f7cf"
      },
      "execution_count": 15,
      "outputs": [
        {
          "output_type": "stream",
          "name": "stdout",
          "text": [
            "Epoch [20/200] | Step [120/120] | Loss: 0.003 | Train R2: 0.628 | Test R2: 0.729\n",
            "Epoch [40/200] | Step [120/120] | Loss: 0.003 | Train R2: 0.729 | Test R2: 0.712\n",
            "Epoch [60/200] | Step [120/120] | Loss: 0.003 | Train R2: 0.746 | Test R2: 0.739\n",
            "Epoch [80/200] | Step [120/120] | Loss: 0.002 | Train R2: 0.763 | Test R2: 0.763\n",
            "Epoch [100/200] | Step [120/120] | Loss: 0.002 | Train R2: 0.776 | Test R2: 0.662\n",
            "Epoch [120/200] | Step [120/120] | Loss: 0.002 | Train R2: 0.784 | Test R2: 0.656\n",
            "Epoch [140/200] | Step [120/120] | Loss: 0.002 | Train R2: 0.792 | Test R2: 0.778\n",
            "Epoch [160/200] | Step [120/120] | Loss: 0.002 | Train R2: 0.797 | Test R2: 0.545\n",
            "Epoch [180/200] | Step [120/120] | Loss: 0.002 | Train R2: 0.804 | Test R2: -51.211\n",
            "Epoch [200/200] | Step [120/120] | Loss: 0.002 | Train R2: 0.805 | Test R2: 0.708\n",
            "Training is finished!\n"
          ]
        }
      ]
    },
    {
      "cell_type": "markdown",
      "source": [
        "При использовании оптимизатора Adam метрика на трейне и тесте выше чем, при использовании SGD. Однако на 180-ой эпохе на тесте наблюдается крайне странное значение метрики R2"
      ],
      "metadata": {
        "id": "xsfQoh4X_l71"
      }
    },
    {
      "cell_type": "markdown",
      "source": [
        "### Обучение нейронной сети с оптимизатором RMSprop"
      ],
      "metadata": {
        "id": "kJP9ngnvAf7V"
      }
    },
    {
      "cell_type": "code",
      "source": [
        "net = FeedForward(8, 1024)\n",
        "\n",
        "optimizer = RMSprop(net.parameters(), lr=0.005)\n",
        "criterion = nn.MSELoss()"
      ],
      "metadata": {
        "id": "-Wd-fr8I79eZ"
      },
      "execution_count": 16,
      "outputs": []
    },
    {
      "cell_type": "code",
      "source": [
        "epochs = 200\n",
        "\n",
        "net.train()\n",
        "metrics_train = []\n",
        "\n",
        "for ep in range(epochs):\n",
        "    running_loss, running_items = 0.0, 0.0\n",
        "    for i, data in enumerate(train_loader):\n",
        "        inputs, labels = data[0].cuda(), data[1].cuda()\n",
        "        \n",
        "        optimizer.zero_grad()\n",
        "        outputs = net(inputs)\n",
        "        loss = criterion(outputs.squeeze(), labels)\n",
        "        loss.backward()\n",
        "        optimizer.step()\n",
        "        \n",
        "        running_loss += loss.item()\n",
        "        running_items += len(labels)\n",
        "        \n",
        "        train_res = net(inputs)\n",
        "        metrics_train.append(r2_score(labels.cpu().detach().numpy(), train_res.cpu().detach().numpy().reshape(-1)))\n",
        "        \n",
        "    if (ep + 1)%20 == 0:  \n",
        "        net.eval()\n",
        "\n",
        "        print(f'Epoch [{ep + 1}/{epochs}] | ' \\\n",
        "              f'Step [{i + 1}/{len(train_loader)}] | ' \\\n",
        "              f'Loss: {running_loss / running_items:.3f} | ' \\\n",
        "              f'Train R2: {sum(metrics_train) / len(metrics_train):.3f} | ', end='')\n",
        "\n",
        "        running_loss, running_items = 0.0, 0.0\n",
        "        metrics_train = []\n",
        "\n",
        "        metrics_test = []\n",
        "        for i, data in enumerate(test_loader):\n",
        "            test_res = net(data[0].cuda())\n",
        "            metrics_test.append(r2_score(data[1].cpu().detach().numpy(), test_res.cpu().detach().numpy().reshape(-1)))\n",
        "        print(f'Test R2: {sum(metrics_test) / len(metrics_test):.3f}')\n",
        "        net.train()\n",
        "print('Training is finished!')"
      ],
      "metadata": {
        "colab": {
          "base_uri": "https://localhost:8080/"
        },
        "id": "IxVDDaBJ7_6E",
        "outputId": "b0d4ee4d-272e-4790-bbfa-4a7f9a483e02"
      },
      "execution_count": 17,
      "outputs": [
        {
          "output_type": "stream",
          "name": "stdout",
          "text": [
            "Epoch [20/200] | Step [120/120] | Loss: 0.004 | Train R2: 0.409 | Test R2: -2.342\n",
            "Epoch [40/200] | Step [120/120] | Loss: 0.003 | Train R2: 0.704 | Test R2: 0.699\n",
            "Epoch [60/200] | Step [120/120] | Loss: 0.003 | Train R2: 0.766 | Test R2: 0.754\n",
            "Epoch [80/200] | Step [120/120] | Loss: 0.003 | Train R2: 0.775 | Test R2: -13776968.857\n",
            "Epoch [100/200] | Step [120/120] | Loss: 0.003 | Train R2: 0.787 | Test R2: -284734859.136\n",
            "Epoch [120/200] | Step [120/120] | Loss: 0.002 | Train R2: 0.796 | Test R2: -0.567\n",
            "Epoch [140/200] | Step [120/120] | Loss: 0.002 | Train R2: 0.804 | Test R2: -16814475.989\n",
            "Epoch [160/200] | Step [120/120] | Loss: 0.002 | Train R2: 0.809 | Test R2: -21279580.599\n",
            "Epoch [180/200] | Step [120/120] | Loss: 0.002 | Train R2: 0.811 | Test R2: -5264705.231\n",
            "Epoch [200/200] | Step [120/120] | Loss: 0.002 | Train R2: 0.808 | Test R2: -43386.776\n",
            "Training is finished!\n"
          ]
        }
      ]
    },
    {
      "cell_type": "markdown",
      "source": [
        "Если используется оптимизатор RMSprop, то на тесте на большинстве эпох возникают очень странные значения метрики R2."
      ],
      "metadata": {
        "id": "I9KUe3_UAser"
      }
    }
  ]
}