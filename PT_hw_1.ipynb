{
  "cells": [
    {
      "cell_type": "code",
      "execution_count": 36,
      "metadata": {
        "id": "_CNZn_3CofVO"
      },
      "outputs": [],
      "source": [
        "import torch"
      ]
    },
    {
      "cell_type": "code",
      "execution_count": 37,
      "metadata": {
        "id": "QGYTKAxeofVR",
        "colab": {
          "base_uri": "https://localhost:8080/"
        },
        "outputId": "edc011a8-6407-40a0-a4df-fd4713588114"
      },
      "outputs": [
        {
          "output_type": "stream",
          "name": "stdout",
          "text": [
            "tensor([[[-9.6811e-01,  1.1483e+00, -1.8008e+00,  1.8089e+00, -6.8157e-01],\n",
            "         [-1.4562e+00,  7.6351e-02, -8.1602e-01,  1.2502e+00, -3.6049e-01],\n",
            "         [-4.4067e-01, -2.2326e-01, -7.9747e-01, -4.4097e-01, -1.0163e+00],\n",
            "         [-2.8093e-01,  1.4863e+00,  1.3265e+00, -4.9614e-04,  3.8639e-01]],\n",
            "\n",
            "        [[ 1.4239e-01, -7.8925e-01,  2.4543e-01,  1.2144e+00, -2.5893e-01],\n",
            "         [-3.2052e-01, -8.0784e-01, -2.4735e-02,  2.1876e-01, -1.9688e+00],\n",
            "         [-1.7050e+00, -1.4219e+00,  6.6746e-01, -8.7749e-01,  1.0235e+00],\n",
            "         [-1.1418e+00,  1.4046e-01,  1.0968e+00, -8.8371e-02,  4.6164e-02]],\n",
            "\n",
            "        [[-4.3483e-01,  1.9126e-01, -1.4230e+00, -5.6469e-01, -3.2939e-01],\n",
            "         [ 6.9591e-01, -5.8190e-01,  8.0135e-01,  2.0827e-02, -5.2074e-01],\n",
            "         [ 1.5452e-01,  3.7755e-01,  1.1621e+00,  2.2857e-01, -7.4248e-01],\n",
            "         [ 3.0713e-01, -2.5525e-01, -1.5036e-01,  5.1168e-01,  8.4167e-01]]])\n",
            "torch.FloatTensor\n"
          ]
        }
      ],
      "source": [
        "# 1. Создайте случайный FloatTensor размера 3x4x5\n",
        "a = torch.randn(3, 4, 5)\n",
        "print(a)\n",
        "print(a.type())"
      ]
    },
    {
      "cell_type": "code",
      "execution_count": 38,
      "metadata": {
        "id": "7GV_q8DdofVV",
        "colab": {
          "base_uri": "https://localhost:8080/"
        },
        "outputId": "a4058dd1-4865-4319-d68f-6bf6e98c909b"
      },
      "outputs": [
        {
          "output_type": "stream",
          "name": "stdout",
          "text": [
            "torch.Size([3, 4, 5])\n"
          ]
        }
      ],
      "source": [
        "# 2. Выведите его форму (shape)\n",
        "print(a.shape)"
      ]
    },
    {
      "cell_type": "code",
      "execution_count": 39,
      "metadata": {
        "id": "f1OTy65FofVX",
        "colab": {
          "base_uri": "https://localhost:8080/"
        },
        "outputId": "86bd0adb-5438-4565-b05e-1b72f8727904"
      },
      "outputs": [
        {
          "output_type": "stream",
          "name": "stdout",
          "text": [
            "tensor([[-9.6811e-01,  1.1483e+00, -1.8008e+00,  1.8089e+00, -6.8157e-01,\n",
            "         -1.4562e+00,  7.6351e-02, -8.1602e-01,  1.2502e+00, -3.6049e-01],\n",
            "        [-4.4067e-01, -2.2326e-01, -7.9747e-01, -4.4097e-01, -1.0163e+00,\n",
            "         -2.8093e-01,  1.4863e+00,  1.3265e+00, -4.9614e-04,  3.8639e-01],\n",
            "        [ 1.4239e-01, -7.8925e-01,  2.4543e-01,  1.2144e+00, -2.5893e-01,\n",
            "         -3.2052e-01, -8.0784e-01, -2.4735e-02,  2.1876e-01, -1.9688e+00],\n",
            "        [-1.7050e+00, -1.4219e+00,  6.6746e-01, -8.7749e-01,  1.0235e+00,\n",
            "         -1.1418e+00,  1.4046e-01,  1.0968e+00, -8.8371e-02,  4.6164e-02],\n",
            "        [-4.3483e-01,  1.9126e-01, -1.4230e+00, -5.6469e-01, -3.2939e-01,\n",
            "          6.9591e-01, -5.8190e-01,  8.0135e-01,  2.0827e-02, -5.2074e-01],\n",
            "        [ 1.5452e-01,  3.7755e-01,  1.1621e+00,  2.2857e-01, -7.4248e-01,\n",
            "          3.0713e-01, -2.5525e-01, -1.5036e-01,  5.1168e-01,  8.4167e-01]])\n",
            "torch.Size([6, 10])\n"
          ]
        }
      ],
      "source": [
        "# 3. Приведите его к форме 6х10\n",
        "b = a.reshape(6, 10)\n",
        "print(b)\n",
        "print(b.shape)"
      ]
    },
    {
      "cell_type": "code",
      "execution_count": 40,
      "metadata": {
        "id": "BEVOv9_TofVe",
        "colab": {
          "base_uri": "https://localhost:8080/"
        },
        "outputId": "82054e3f-68fb-437b-984b-89f175493be6"
      },
      "outputs": [
        {
          "output_type": "stream",
          "name": "stdout",
          "text": [
            "tensor([15, 11,  5, 12,  3, 12,  6,  0,  7, 14], dtype=torch.int32)\n",
            "torch.IntTensor\n"
          ]
        }
      ],
      "source": [
        "# 4. Создайте случайный IntTensor размера 10\n",
        "c = torch.randint(20, size = (10, ))\n",
        "c = c.int()\n",
        "print(c)\n",
        "print(c.type())"
      ]
    },
    {
      "cell_type": "code",
      "source": [
        "# 5. Умножьте созданный FloatTensor на созданный IntTensor поэлементно\n",
        "d = c * b\n",
        "print(d)\n",
        "print(d.shape)"
      ],
      "metadata": {
        "id": "TAX3DUiSa07K",
        "colab": {
          "base_uri": "https://localhost:8080/"
        },
        "outputId": "ce2fc1e5-3391-4e4c-9593-0548f9d4f4d8"
      },
      "execution_count": 41,
      "outputs": [
        {
          "output_type": "stream",
          "name": "stdout",
          "text": [
            "tensor([[-1.4522e+01,  1.2631e+01, -9.0042e+00,  2.1707e+01, -2.0447e+00,\n",
            "         -1.7475e+01,  4.5810e-01, -0.0000e+00,  8.7516e+00, -5.0468e+00],\n",
            "        [-6.6100e+00, -2.4559e+00, -3.9874e+00, -5.2916e+00, -3.0489e+00,\n",
            "         -3.3712e+00,  8.9177e+00,  0.0000e+00, -3.4730e-03,  5.4094e+00],\n",
            "        [ 2.1359e+00, -8.6818e+00,  1.2272e+00,  1.4573e+01, -7.7679e-01,\n",
            "         -3.8462e+00, -4.8471e+00, -0.0000e+00,  1.5313e+00, -2.7563e+01],\n",
            "        [-2.5574e+01, -1.5641e+01,  3.3373e+00, -1.0530e+01,  3.0706e+00,\n",
            "         -1.3702e+01,  8.4278e-01,  0.0000e+00, -6.1859e-01,  6.4630e-01],\n",
            "        [-6.5225e+00,  2.1039e+00, -7.1150e+00, -6.7763e+00, -9.8818e-01,\n",
            "          8.3510e+00, -3.4914e+00,  0.0000e+00,  1.4579e-01, -7.2903e+00],\n",
            "        [ 2.3177e+00,  4.1530e+00,  5.8107e+00,  2.7428e+00, -2.2275e+00,\n",
            "          3.6856e+00, -1.5315e+00, -0.0000e+00,  3.5817e+00,  1.1783e+01]])\n",
            "torch.Size([6, 10])\n"
          ]
        }
      ]
    },
    {
      "cell_type": "code",
      "execution_count": 42,
      "metadata": {
        "id": "eUxdWlQZofVi",
        "colab": {
          "base_uri": "https://localhost:8080/"
        },
        "outputId": "67d5b9bc-9167-49ea-ac85-2b209cee8c4a"
      },
      "outputs": [
        {
          "output_type": "stream",
          "name": "stdout",
          "text": [
            "tensor([[13.7209,  0.8016,  2.2956, -2.8178,  0.9082, -0.8971],\n",
            "        [ 0.8016,  6.3041, -2.2589,  1.8856,  1.6689, -0.7655],\n",
            "        [ 2.2956, -2.2589,  6.9252, -0.1722,  0.0944, -0.9546],\n",
            "        [-2.8178,  1.8856, -0.1722,  9.7281, -0.3453, -1.5429],\n",
            "        [ 0.9082,  1.6689,  0.0944, -0.3453,  4.4146, -1.7191],\n",
            "        [-0.8971, -0.7655, -0.9546, -1.5429, -1.7191,  3.2728]])\n",
            "torch.Size([6, 6])\n"
          ]
        }
      ],
      "source": [
        "# 6. Умножьте тензор матрично на себя, чтобы результат был размерности 6x6\n",
        "# Подсказка: .dot может не подойти\n",
        "e = torch.matmul(b, torch.transpose(b, 0, 1))\n",
        "print(e)\n",
        "print(e.shape)"
      ]
    },
    {
      "cell_type": "code",
      "execution_count": 43,
      "metadata": {
        "id": "u3V6CsNkofVj",
        "colab": {
          "base_uri": "https://localhost:8080/"
        },
        "outputId": "b2c1b6f7-97a6-435e-d8b1-eda364e21921"
      },
      "outputs": [
        {
          "output_type": "stream",
          "name": "stdout",
          "text": [
            "tensor([3.]) tensor([1.]) tensor([-75.])\n"
          ]
        }
      ],
      "source": [
        "# 7. Посчитайте производную функции y = x**3 + z - 75t в точке (1, 0.5, 2)\n",
        "x = torch.tensor([1.0], requires_grad=True)\n",
        "z = torch.tensor([0.5], requires_grad=True)\n",
        "t = torch.tensor([2.0], requires_grad=True)\n",
        "y = x**3 + z -75*t\n",
        "y.backward([x, z, t])\n",
        "print(x.grad, z.grad, t.grad)"
      ]
    },
    {
      "cell_type": "code",
      "execution_count": 44,
      "metadata": {
        "id": "FzH6QkyxofVm",
        "colab": {
          "base_uri": "https://localhost:8080/"
        },
        "outputId": "fe432aee-ac0a-4733-8a1a-8dac4faa5d19"
      },
      "outputs": [
        {
          "output_type": "stream",
          "name": "stdout",
          "text": [
            "tensor([[1., 1., 1., 1., 1., 1.],\n",
            "        [1., 1., 1., 1., 1., 1.],\n",
            "        [1., 1., 1., 1., 1., 1.],\n",
            "        [1., 1., 1., 1., 1., 1.],\n",
            "        [1., 1., 1., 1., 1., 1.]])\n"
          ]
        }
      ],
      "source": [
        "# 8. Создайте единичный тензор размера 5x6\n",
        "f = torch.ones(5, 6)\n",
        "print(f)"
      ]
    },
    {
      "cell_type": "code",
      "execution_count": 45,
      "metadata": {
        "id": "z49ttvWPofVo",
        "colab": {
          "base_uri": "https://localhost:8080/"
        },
        "outputId": "a2d6a46b-f9b9-4759-a365-728defe16fe6"
      },
      "outputs": [
        {
          "output_type": "execute_result",
          "data": {
            "text/plain": [
              "array([[1., 1., 1., 1., 1., 1.],\n",
              "       [1., 1., 1., 1., 1., 1.],\n",
              "       [1., 1., 1., 1., 1., 1.],\n",
              "       [1., 1., 1., 1., 1., 1.],\n",
              "       [1., 1., 1., 1., 1., 1.]], dtype=float32)"
            ]
          },
          "metadata": {},
          "execution_count": 45
        }
      ],
      "source": [
        "# 9. Переведите его в формат numpy\n",
        "f.numpy()"
      ]
    }
  ],
  "metadata": {
    "kernelspec": {
      "display_name": "Python 3",
      "language": "python",
      "name": "python3"
    },
    "language_info": {
      "codemirror_mode": {
        "name": "ipython",
        "version": 3
      },
      "file_extension": ".py",
      "mimetype": "text/x-python",
      "name": "python",
      "nbconvert_exporter": "python",
      "pygments_lexer": "ipython3",
      "version": "3.7.4"
    },
    "colab": {
      "name": "PT_hw_1.ipynb",
      "provenance": [],
      "collapsed_sections": []
    }
  },
  "nbformat": 4,
  "nbformat_minor": 0
}